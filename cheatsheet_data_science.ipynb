{
 "cells": [
  {
   "cell_type": "markdown",
   "metadata": {},
   "source": [
    "Numerical, Transformation.\n",
    "\n",
    "The main topics of this is:\n",
    "-Centering\n",
    "-Standar Scaler\n",
    "-Min and Max Scaler\n",
    "-Binning\n",
    "-Log Transformations\n"
   ]
  },
  {
   "cell_type": "code",
   "execution_count": null,
   "metadata": {},
   "outputs": [],
   "source": [
    "#First we need a dataset, to work, i get it from Keaggle, dont worry, but that would be at the end\n",
    "import pandas as pd\n",
    "import numpy as np\n",
    "import matplotlib.pyplot as plt \n"
   ]
  },
  {
   "cell_type": "markdown",
   "metadata": {},
   "source": [
    "centering data"
   ]
  },
  {
   "cell_type": "code",
   "execution_count": null,
   "metadata": {},
   "outputs": [],
   "source": [
    "#Centering your data\n",
    "coffee = pd.read_csv('starbucks_customers.csv')\n",
    "\n",
    "#print(coffee.columns)\n",
    "\n",
    "#Seleccion de una columna\n",
    "ages = coffee.age\n",
    "\n",
    "min_age = ages.min()\n",
    "print(min_age)\n",
    "\n",
    "max_age = ages.max()\n",
    "print(max_age)\n",
    "\n",
    "#To understood the spread of the data, in age =\n",
    "spread = max_age - min_age\n",
    "print(spread)\n",
    "\n",
    "mean_age = np.mean(ages)\n",
    "print(f' \\n This is the mean {mean_age}')\n",
    "centered_ages  = ages - mean_age\n",
    "\n",
    "plt.hist(centered_ages) # el argumento bins, cambia el numero de columnas\n",
    "\n",
    "#create visual\n",
    "plt.title('Age data centered')\n",
    "plt.xlabel('Distance From mean')\n",
    "plt.ylabel('Count')\n",
    "plt.show()"
   ]
  },
  {
   "cell_type": "markdown",
   "metadata": {},
   "source": [
    "Standariting Data  \n"
   ]
  },
  {
   "cell_type": "markdown",
   "metadata": {},
   "source": [
    " La estandarización asegura que todas las variables tengan el mismo peso en el modelo, ¡y eso es justicia en el mundo de los datos!\n",
    "\n",
    "En resumen, la estandarización es como un superhéroe en el mundo del análisis de datos. Asegura que todos jueguen con las mismas reglas y hace que encontrar grupos en tus datos sea mucho más preciso y justo. ¡Es como la salsa secreta que hace que todo funcione mejor!"
   ]
  },
  {
   "cell_type": "code",
   "execution_count": null,
   "metadata": {},
   "outputs": [],
   "source": [
    "\n",
    "coffee = pd.read_csv('starbucks_customers.csv')\n",
    "ages = coffee['age']\n",
    "\n",
    "## add code below\n",
    "## set up your variables\n",
    "mean_age = np.mean(ages)\n",
    "std_dev_age = np.std(ages)\n",
    "\n",
    "## standardize ages\n",
    "ages_standardized = (ages - mean_age) / std_dev_age\n",
    "\n",
    "## print the results \n",
    "print(np.mean(ages_standardized))\n",
    "\n",
    "print(np.mean(ages_standardized))\n",
    "\n",
    "print(np.std(ages_standardized))"
   ]
  },
  {
   "cell_type": "markdown",
   "metadata": {},
   "source": [
    "Standarizando Nuestros datos"
   ]
  },
  {
   "cell_type": "markdown",
   "metadata": {},
   "source": [
    "Estandarizando con SkLearn"
   ]
  },
  {
   "cell_type": "code",
   "execution_count": null,
   "metadata": {},
   "outputs": [],
   "source": []
  },
  {
   "cell_type": "markdown",
   "metadata": {},
   "source": [
    "Normalizacion con min - max"
   ]
  },
  {
   "cell_type": "code",
   "execution_count": null,
   "metadata": {},
   "outputs": [],
   "source": [
    "coffee = pd.read_csv('starbucks_customers.csv')\n",
    "\n",
    "## add code below\n",
    "## get spent feature\n",
    "spent = coffee.spent\n",
    "\n",
    "\n",
    "#find the max spent\n",
    "max_spent = np.max(spent)\n",
    "\n",
    "#find the min spent\n",
    "min_spent = np.min(spent)\n",
    "\n",
    "#find the difference\n",
    "spent_range = max_spent - min_spent\n",
    "\n",
    "\n",
    "#normalize your spent feature\n",
    "spent_normalized = (spent - min_spent) / spent_range\n",
    "\n",
    "#print your results\n",
    "print(spent_normalized)"
   ]
  },
  {
   "cell_type": "markdown",
   "metadata": {},
   "source": [
    "Min- Max normalization with SkLearn"
   ]
  },
  {
   "cell_type": "code",
   "execution_count": null,
   "metadata": {},
   "outputs": [],
   "source": [
    "import pandas as pd\n",
    "import numpy as np\n",
    "from sklearn.preprocessing import MinMaxScaler\n",
    "\n",
    "coffee = pd.read_csv('starbucks_customers.csv')\n",
    "spent = coffee['spent']\n",
    "\n",
    "## write your code below\n",
    "spent_reshaped = np.array(spent).reshape(-1,1)\n",
    "\n",
    "mmscaler = MinMaxScaler()\n",
    "\n",
    "reshaped_scaled = mmscaler.fit_transform(spent_reshaped)\n",
    "\n",
    "print(set(np.unique(reshaped_scaled)))"
   ]
  },
  {
   "cell_type": "markdown",
   "metadata": {},
   "source": [
    "Binning Data\n",
    "Agrupacion de Datos"
   ]
  },
  {
   "cell_type": "code",
   "execution_count": null,
   "metadata": {},
   "outputs": [],
   "source": [
    "\n",
    "\n",
    "coffee = pd.read_csv('starbucks_customers.csv')\n",
    "\n",
    "ages = coffee.age\n",
    "\n",
    "print(np.min(ages))\n",
    "print(np.max(ages))\n",
    "\n",
    "age_bins = [12, 20, 30, 40, 71]\n",
    "coffee['binned_ages'] = pd.cut(coffee['age'], age_bins, right = False)\n",
    "\n",
    "print(coffee['binned_ages'].head(10))\n",
    "\n",
    "\n",
    "coffee['binned_ages'].value_counts().plot(kind='bar')\n",
    "\n",
    "# Label the bar graph \n",
    "plt.title('Age Distribution')\n",
    "plt.xlabel('Age')\n",
    "plt.ylabel('Count') \n",
    "\n",
    "# Show the bar graph \n",
    "plt.show()\n",
    "\n"
   ]
  },
  {
   "cell_type": "markdown",
   "metadata": {},
   "source": [
    "Natural Log Transformation\n"
   ]
  },
  {
   "cell_type": "code",
   "execution_count": null,
   "metadata": {},
   "outputs": [],
   "source": [
    "## add code below\n",
    "## read in csv file\n",
    "cars = pd.read_csv('cars.csv')\n",
    "\n",
    "## set you price variable\n",
    "prices = cars.sellingprice\n",
    "\n",
    "## plot a histogram of prices\n",
    "# plt.hist(prices, bins = 150, color = 'green')\n",
    "\n",
    "# plt.xticks(rotation = 45)\n",
    "# plt.title('Number of Houses by Price')\n",
    "# plt.ylabel('Number of Price')\n",
    "# plt.xlabel('Count')\n",
    "# plt.show();\n",
    "\n",
    "\n",
    "log_prices = np.log(prices)\n",
    "\n",
    "plt.hist(log_prices, bins = 150, color = 'g')\n",
    "\n",
    "#rotate the x labels so we can read it easily\n",
    "plt.xticks(rotation = 45)\n",
    "\n",
    "#provide a title\n",
    "plt.title('Logarithm of Prices')\n",
    "plt.show();\n",
    "\n",
    "\n",
    "## log transform prices\n",
    "\n",
    "\n",
    "## plot a histogram of log_prices\n"
   ]
  }
 ],
 "metadata": {
  "language_info": {
   "name": "python"
  },
  "orig_nbformat": 4
 },
 "nbformat": 4,
 "nbformat_minor": 2
}
