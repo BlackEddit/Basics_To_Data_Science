{
 "cells": [
  {
   "cell_type": "markdown",
   "metadata": {},
   "source": [
    "How to create arrays and vectors, the fundamentls stuffs to linear algebra  \n"
   ]
  },
  {
   "cell_type": "code",
   "execution_count": 2,
   "metadata": {},
   "outputs": [],
   "source": [
    "import numpy as np"
   ]
  },
  {
   "cell_type": "markdown",
   "metadata": {},
   "source": [
    "En primer lugar, al igual que definimos las matrices y vectores en la tableta, tenemos que array o arreglo, no es mas que la forma en la cual <br>\n",
    "podemos presentar las diferentes unidades / bases de el algebra lineal: <br>\n",
    "\n",
    "\n",
    "Vector & Matriz"
   ]
  },
  {
   "cell_type": "code",
   "execution_count": 4,
   "metadata": {},
   "outputs": [],
   "source": [
    "#There is a mutiply ways to create vectors an darray the first way is just passing a list:\n",
    "\n",
    "vector  = np.array([1, 2, 3, 4]) # <-- At this case we show a vector, cause even if we have different elements inside our array, they dont follow the rule of rows, and columns\n",
    "#print(type(vector))\n",
    "\n",
    "Arr = np.array([[1, 2], [3, 4]]) #<-- On this one is a matrix\n",
    "#print(type(Arr))"
   ]
  },
  {
   "cell_type": "markdown",
   "metadata": {},
   "source": [
    "Las matrices como bien lo vimos, tambien pueden resultar de la combinacion de varios, vectores <br>\n",
    "que tambien podemos decidir el sentido, si los unimos en forma de tomarlos como columna o filas"
   ]
  },
  {
   "cell_type": "code",
   "execution_count": 7,
   "metadata": {},
   "outputs": [
    {
     "name": "stdout",
     "output_type": "stream",
     "text": [
      "[[ 1  0  1]\n",
      " [ 2 -2  8]\n",
      " [ 4  4 -6]\n",
      " [ 6  7  2]]\n",
      "[[ 1  2  4  6]\n",
      " [ 0 -2  4  7]\n",
      " [ 1  8 -6  2]]\n"
     ]
    }
   ],
   "source": [
    "# First we need a mutiple vectors\n",
    "v1 = np.array([1, 2, 4, 6])\n",
    "v2 = np.array([0, -2, 4, 7])\n",
    "v3 = np.array([1, 8, -6, 2])\n",
    "\n",
    "#Then we the built-in function colum_stack\n",
    "#Usamos funcione de numpy que son colum y row, para definir si queremos unir nuestros vectores en forma de columa, o en forma de vector\n",
    "\n",
    "Arr = np.column_stack((v1, v2, v3))  # <-- Los une como si fueran en gorma de columna.\n",
    "print(Arr)\n",
    "\n",
    "Arr_2 = np.row_stack((v1, v2, v3))\n",
    "print(Arr_2)"
   ]
  },
  {
   "cell_type": "markdown",
   "metadata": {},
   "source": [
    "Como visualizar la forma:\n",
    "usando .shape\n",
    "That give us in way rows, columns"
   ]
  },
  {
   "cell_type": "code",
   "execution_count": 16,
   "metadata": {},
   "outputs": [
    {
     "name": "stdout",
     "output_type": "stream",
     "text": [
      "(2, 2)\n"
     ]
    }
   ],
   "source": [
    "A = np.array([[1,2],[3,4]])\n",
    "print(A.shape)"
   ]
  },
  {
   "cell_type": "markdown",
   "metadata": {},
   "source": [
    "Para acceder a los indices, podemos realizarlo igual que en los arreglos de python, tomando en cueta:\n",
    "que el primer valor son las filas y el segundo las columnas:"
   ]
  },
  {
   "cell_type": "code",
   "execution_count": 19,
   "metadata": {},
   "outputs": [
    {
     "name": "stdout",
     "output_type": "stream",
     "text": [
      "2\n"
     ]
    }
   ],
   "source": [
    "#Accdediendo a la matriz superior:\n",
    "print(A[0,1]) # En la primera linea , 1 ; El segundo valor."
   ]
  },
  {
   "cell_type": "markdown",
   "metadata": {},
   "source": [
    "We also can select a subset, subconjunto, utilizando los dos puntos, that depends if we want a column or a row:"
   ]
  },
  {
   "cell_type": "code",
   "execution_count": 21,
   "metadata": {},
   "outputs": [
    {
     "name": "stdout",
     "output_type": "stream",
     "text": [
      "[[1 2]]\n",
      "\\\\\n",
      "[[3 4]]\n"
     ]
    }
   ],
   "source": [
    "A = np.array([[1, 2], [3, 4]])\n",
    "print(A[:1]) #Imprime la segunda columna\n",
    "\n",
    "#Just to separate\n",
    "print(\"\\\\\\\\\")\n",
    "\n",
    "print(A[1:]) # Imprime la segunda fila\n",
    "\n",
    "#There is a diference if we use print(matrix[:,2]) the comma, or not if we dont use it \n",
    "#The codes follows the rule until, as the first row until the second one that shows in the \n",
    "#next lines of code:"
   ]
  },
  {
   "cell_type": "code",
   "execution_count": 23,
   "metadata": {},
   "outputs": [
    {
     "name": "stdout",
     "output_type": "stream",
     "text": [
      "[[-2  4  5]\n",
      " [-6  1 -7]\n",
      " [ 2 -3  9]\n",
      " [ 3  8  0]]\n",
      "Just to saw it the diference\n",
      "[ 5 -7  9  0]\n",
      "Just to saw it the diference\n",
      "[[-2  4  5]\n",
      " [-6  1 -7]]\n"
     ]
    }
   ],
   "source": [
    "\n",
    "# Given vectors\n",
    "vector_1 = np.array([-2,-6,2,3])\n",
    "vector_2 = np.array([4,1,-3,8])\n",
    "vector_3 = np.array([5,-7,9,0])\n",
    "\n",
    "matrix = np.column_stack((vector_1, vector_2, vector_3))\n",
    "print(matrix)\n",
    "\n",
    "print('Just to saw it the diference')\n",
    "\n",
    "print(matrix[:,2])\n",
    "\n",
    "print('Just to saw it the diference')\n",
    "\n",
    "print(matrix[:2])"
   ]
  },
  {
   "cell_type": "markdown",
   "metadata": {},
   "source": [
    "# <span style=\"color:#FFD1DC\">Operaciones con Python para algebra lineal</span>.\n"
   ]
  },
  {
   "cell_type": "markdown",
   "metadata": {},
   "source": [
    "## <span style=\"color:#A2D2FF\">Multiplicacion de matrices</span>\n"
   ]
  },
  {
   "cell_type": "code",
   "execution_count": 25,
   "metadata": {},
   "outputs": [
    {
     "name": "stdout",
     "output_type": "stream",
     "text": [
      "[[1 4]\n",
      " [5 7]]\n",
      "There is the difference:\n",
      "[[ 5 20]\n",
      " [25 35]]\n"
     ]
    }
   ],
   "source": [
    "#Multiplicaciones\n",
    "\n",
    "#Multiplicacion por un escalar\n",
    "A = np.array([[1, 4], [5, 7]])\n",
    "B = 5 * A\n",
    "\n",
    "print(A)\n",
    "\n",
    "print('There is the difference:')\n",
    "\n",
    "print(B)"
   ]
  },
  {
   "cell_type": "code",
   "execution_count": 27,
   "metadata": {},
   "outputs": [
    {
     "data": {
      "text/plain": [
       "array([[ -8,  -5],\n",
       "       [-20, -13]])"
      ]
     },
     "execution_count": 27,
     "metadata": {},
     "output_type": "execute_result"
    }
   ],
   "source": [
    "A = np.array([[1,2],[3,4]])\n",
    "B = np.array([[-4,-3],[-2,-1]])\n",
    "\n",
    "# one way to matrix multiply\n",
    "np.matmul(A,B)\n",
    "# another way to matrix multiply\n",
    "A@B"
   ]
  },
  {
   "cell_type": "markdown",
   "metadata": {},
   "source": [
    "## <span style=\"color:#A2D2FF\">Sumatoria de matrices</span>\n"
   ]
  },
  {
   "cell_type": "code",
   "execution_count": 26,
   "metadata": {},
   "outputs": [
    {
     "name": "stdout",
     "output_type": "stream",
     "text": [
      "[[ 6  8]\n",
      " [21  2]]\n"
     ]
    }
   ],
   "source": [
    "A = np.array([[1, 6], [5, 1]])\n",
    "B = np.array([[5, 2], [16, 1]])\n",
    "\n",
    "print(A + B)"
   ]
  },
  {
   "cell_type": "markdown",
   "metadata": {},
   "source": [
    "## <span style=\"color:#A2D2FF\">Producto - Punto</span>\n"
   ]
  },
  {
   "cell_type": "markdown",
   "metadata": {},
   "source": [
    "La función producto punto, también conocida como producto escalar, es una operación matemática que toma dos vectores y devuelve un número escalar.\n",
    "\n",
    "dado dos vectores [a1, b1 , c1] * [a2, b2 , c2] =  a1*a2 + b1*b2 + c1*c2 == 'valor escalar'\n"
   ]
  },
  {
   "cell_type": "markdown",
   "metadata": {},
   "source": [
    "v = np.array([-1,-2,-3])\n",
    "u = np.array([2,2,2])\n",
    "np.dot(v,u)"
   ]
  },
  {
   "cell_type": "markdown",
   "metadata": {},
   "source": [
    "¿Para qué sirve?\n",
    "Medir la Similitud: El producto punto puede ser utilizado para medir la similitud entre dos vectores. Si el resultado es cero, significa que los vectores son perpendiculares entre sí. Si es positivo, indica que los vectores apuntan en una dirección similar, y si es negativo, indica que apuntan en direcciones opuestas.\n",
    "\n",
    "Proyección: Puedes usar el producto punto para proyectar un vector sobre otro. Esto es útil en física para descomponer fuerzas y en gráficos por computadora para calcular sombras y reflejos.\n",
    "\n",
    "Machine Learning y Análisis de Datos: En machine learning, el producto punto se utiliza en algoritmos como el SVM (Máquinas de Soporte Vectorial) y en la medición de similitud entre documentos en procesamiento de lenguaje natural.\n",
    "\n",
    "Física: En física, el producto punto se utiliza para calcular trabajo, donde un vector representa una fuerza y el otro representa un desplazamiento."
   ]
  },
  {
   "cell_type": "markdown",
   "metadata": {},
   "source": [
    "# <span style=\"color:#FFD1DC\">Matrices Especiales</span>.\n"
   ]
  },
  {
   "cell_type": "markdown",
   "metadata": {},
   "source": [
    "## <span style=\"color:#A2D2FF\">Matriz de identidad</span>\n"
   ]
  },
  {
   "cell_type": "markdown",
   "metadata": {},
   "source": [
    "Una matriz de identidad puede ser construida con la funcion de numpy \"np.eye()\" que toma como argumento un entero"
   ]
  },
  {
   "cell_type": "code",
   "execution_count": 29,
   "metadata": {},
   "outputs": [
    {
     "name": "stdout",
     "output_type": "stream",
     "text": [
      "[[1. 0. 0. 0.]\n",
      " [0. 1. 0. 0.]\n",
      " [0. 0. 1. 0.]\n",
      " [0. 0. 0. 1.]]\n"
     ]
    }
   ],
   "source": [
    "# 4x4 identity matrix\n",
    "identity = np.eye(4)\n",
    "\n",
    "print(identity)"
   ]
  },
  {
   "cell_type": "markdown",
   "metadata": {},
   "source": [
    "## <span style=\"color:#A2D2FF\">Matriz Ceros</span>\n"
   ]
  },
  {
   "cell_type": "markdown",
   "metadata": {},
   "source": [
    "Una matriz construida con mutiples ceros se puede construir atravez del metodo np.zeros(), que recibe una tupla en la forma (rows, columns), en caso de querer un vector, unicamente \n",
    "pasamos un unico valor"
   ]
  },
  {
   "cell_type": "code",
   "execution_count": 32,
   "metadata": {},
   "outputs": [
    {
     "name": "stdout",
     "output_type": "stream",
     "text": [
      "[0. 0. 0. 0. 0.]\n",
      "\n",
      " [[0. 0. 0. 0. 0. 0.]\n",
      " [0. 0. 0. 0. 0. 0.]\n",
      " [0. 0. 0. 0. 0. 0.]\n",
      " [0. 0. 0. 0. 0. 0.]\n",
      " [0. 0. 0. 0. 0. 0.]]\n"
     ]
    }
   ],
   "source": [
    "zero_vector = np.zeros((5))\n",
    "print(zero_vector)\n",
    "\n",
    "matriz_vector =  np.zeros((5,6))\n",
    "print(f'\\n {matriz_vector}')"
   ]
  },
  {
   "cell_type": "markdown",
   "metadata": {},
   "source": [
    "## <span style=\"color:#A2D2FF\">Matriz Transpuesta</span>\n"
   ]
  },
  {
   "cell_type": "markdown",
   "metadata": {},
   "source": [
    "Se puede acceder a la transposicion de una matriz usando el atributo .T\n",
    "\n",
    "Una matriz transpuesta cambia entre columnas y filas"
   ]
  },
  {
   "cell_type": "code",
   "execution_count": 1,
   "metadata": {},
   "outputs": [
    {
     "ename": "NameError",
     "evalue": "name 'np' is not defined",
     "output_type": "error",
     "traceback": [
      "\u001b[1;31m---------------------------------------------------------------------------\u001b[0m",
      "\u001b[1;31mNameError\u001b[0m                                 Traceback (most recent call last)",
      "Cell \u001b[1;32mIn[1], line 1\u001b[0m\n\u001b[1;32m----> 1\u001b[0m matrix \u001b[39m=\u001b[39m  np\u001b[39m.\u001b[39marray([[\u001b[39m5\u001b[39m, \u001b[39m7\u001b[39m, \u001b[39m6\u001b[39m], [\u001b[39m64\u001b[39m, \u001b[39m74\u001b[39m, \u001b[39m7\u001b[39m]])\n\u001b[0;32m      3\u001b[0m matrix\u001b[39m.\u001b[39mT\n\u001b[0;32m      5\u001b[0m \u001b[39mprint\u001b[39m(matrix)\n",
      "\u001b[1;31mNameError\u001b[0m: name 'np' is not defined"
     ]
    }
   ],
   "source": [
    "matrix =  np.array([[5, 7, 6], [64, 74, 7]])\n",
    "\n",
    "matrix.T\n",
    "\n",
    "print(matrix)\n",
    "print(f'\\n {matrix.T}')"
   ]
  },
  {
   "cell_type": "code",
   "execution_count": 34,
   "metadata": {},
   "outputs": [],
   "source": [
    "#Ex for pracite, solve it:"
   ]
  },
  {
   "cell_type": "code",
   "execution_count": null,
   "metadata": {},
   "outputs": [],
   "source": [
    "# Given\n",
    "A = np.array([[1,-1,1], [0,1,0], [-1,2,1]])\n",
    "B = np.array([[0.5,1.5,-0.5], [0,1,0], [0.5,-0.5,0.5]])\n",
    "\n",
    "print(A@B)\n",
    "print(f'\\n {B@A}')\n",
    "\n",
    "#Since the matrix product of A and B results in the identity matrix, they are inverses of each other.\n",
    "print(A.T)\n",
    "print(f'\\n {B.T}')\n"
   ]
  },
  {
   "cell_type": "markdown",
   "metadata": {},
   "source": [
    "# <span style=\"color:#FFD1DC\">Operaciones Adicionales de algebra lineal</span>.\n"
   ]
  },
  {
   "cell_type": "markdown",
   "metadata": {},
   "source": [
    "## <span style=\"color:#A2D2FF\">np.linalg.norm()</span>\n"
   ]
  },
  {
   "cell_type": "markdown",
   "metadata": {},
   "source": [
    "La \"norma\" (o longitud/magnitud) de un vector se puede encontrar usando np.linalg.norm():"
   ]
  },
  {
   "cell_type": "code",
   "execution_count": 36,
   "metadata": {},
   "outputs": [
    {
     "name": "stdout",
     "output_type": "stream",
     "text": [
      "4.58257569495584\n"
     ]
    }
   ],
   "source": [
    "v = np.array([2,-4,1])\n",
    "v_norm = np.linalg.norm(v)\n",
    "print(v_norm)"
   ]
  },
  {
   "cell_type": "markdown",
   "metadata": {},
   "source": [
    "## <span style=\"color:#A2D2FF\">Inversa de la matriz cuadrada</span>\n"
   ]
  },
  {
   "cell_type": "markdown",
   "metadata": {},
   "source": [
    "La inversa de una matriz cuadrada, si existe, puede encontrarse utilizando np.linalg.inv():\n"
   ]
  },
  {
   "cell_type": "code",
   "execution_count": 37,
   "metadata": {},
   "outputs": [
    {
     "name": "stdout",
     "output_type": "stream",
     "text": [
      "[[-2.   1. ]\n",
      " [ 1.5 -0.5]]\n"
     ]
    }
   ],
   "source": [
    "A = np.array([[1,2],[3,4]])\n",
    "print(np.linalg.inv(A))"
   ]
  },
  {
   "cell_type": "markdown",
   "metadata": {},
   "source": [
    "## <span style=\"color:#A2D2FF\">np.linalg.solve()</span>\n"
   ]
  },
  {
   "cell_type": "markdown",
   "metadata": {},
   "source": [
    "Finally, we can actually solve for unknown variables in a system on linear equations in Ax=b form using np.linalg.solve(), which takes in the A and b parameters. Given:\n",
    "\n"
   ]
  },
  {
   "cell_type": "code",
   "execution_count": 38,
   "metadata": {},
   "outputs": [],
   "source": [
    "#Given the next functions\n",
    "#  x + 4y -  z = -1\n",
    "# -x - 3y + 2z =  2\n",
    "# 2x -  y - 2z = -2\n",
    "\n",
    "# each array in A is an equation from the above system of equations\n",
    "A = np.array([[1,4,-1],[-1,-3,2],[2,-1,-2]])\n",
    "# the solution to each equation\n",
    "b = np.array([-1,2,-2])\n",
    "# solve for x, y, and z\n",
    "x,y,z = np.linalg.solve(A,b)"
   ]
  },
  {
   "cell_type": "code",
   "execution_count": null,
   "metadata": {},
   "outputs": [],
   "source": [
    "#If we print((x, y, z)), we see the following output:\n",
    "\n",
    "#(0, 0, 1.0)\n",
    "\n",
    "# showing that the solution to the system of equations is:\n",
    "\n",
    "# x = 0\n",
    "# y = 0\n",
    "# z = 1"
   ]
  },
  {
   "cell_type": "code",
   "execution_count": 39,
   "metadata": {},
   "outputs": [
    {
     "name": "stdout",
     "output_type": "stream",
     "text": [
      "6.0 -62.0 -22.0\n"
     ]
    }
   ],
   "source": [
    "#Other example\n",
    "# Given\n",
    "'''\n",
    "4x + z = 2\n",
    "-y + 2z - 3x = 0\n",
    ".5y - x - 1.5z = -4\n",
    "'''\n",
    "\n",
    "A= np.array([[4, 0, 1],[-3, -1, 2],[-1, 0.5, -1.5]])\n",
    "b = np.array([2, 0, -4])\n",
    "\n",
    "x,y,z = np.linalg.solve(A,b)\n",
    "print(x, y, z)\n"
   ]
  },
  {
   "cell_type": "markdown",
   "metadata": {},
   "source": [
    "#F"
   ]
  }
 ],
 "metadata": {
  "kernelspec": {
   "display_name": "Python 3",
   "language": "python",
   "name": "python3"
  },
  "language_info": {
   "codemirror_mode": {
    "name": "ipython",
    "version": 3
   },
   "file_extension": ".py",
   "mimetype": "text/x-python",
   "name": "python",
   "nbconvert_exporter": "python",
   "pygments_lexer": "ipython3",
   "version": "3.11.2"
  },
  "orig_nbformat": 4
 },
 "nbformat": 4,
 "nbformat_minor": 2
}
