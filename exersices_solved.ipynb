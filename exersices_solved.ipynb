{
 "cells": [
  {
   "cell_type": "code",
   "execution_count": 1,
   "metadata": {},
   "outputs": [],
   "source": [
    "import numpy as np"
   ]
  },
  {
   "cell_type": "code",
   "execution_count": 2,
   "metadata": {},
   "outputs": [
    {
     "name": "stdout",
     "output_type": "stream",
     "text": [
      "[[  1   1  -4]\n",
      " [-15  13  -4]\n",
      " [ -2   2   4]]\n"
     ]
    }
   ],
   "source": [
    "A1 = np.array([[2, -3, 1], [-2, -1, 4], [0, 2, 2]])\n",
    "\n",
    "A2 = np.array([[3, -2, 1], [1, -1, 2], [-2, 2, 0]])\n",
    "\n",
    "print(A1@A2)"
   ]
  },
  {
   "cell_type": "markdown",
   "metadata": {},
   "source": [
    "What is the angle, in degrees rounded to the nearest whole number, between the following two vectors?\n",
    "\n"
   ]
  },
  {
   "cell_type": "code",
   "execution_count": 3,
   "metadata": {},
   "outputs": [
    {
     "name": "stdout",
     "output_type": "stream",
     "text": [
      "Ángulo entre los vectores: 55.46241621381916 grados\n"
     ]
    }
   ],
   "source": [
    "# the followng vectors is what it gives to me\n",
    "vector_a = [3, -1, 2] \n",
    "vector_b = [0, -1, 1]\n",
    "\n",
    "#we need to use a formula,  producto escalar \n",
    "dot_product = np.dot(vector_a, vector_b)\n",
    "\n",
    "# Calcular las magnitudes de los vectores\n",
    "magnitude_a = np.linalg.norm(vector_a)\n",
    "magnitude_b = np.linalg.norm(vector_b)\n",
    "\n",
    "# Calcular el coseno del ángulo\n",
    "cos_angle = dot_product / (magnitude_a * magnitude_b)\n",
    "\n",
    "angle_radians = np.arccos(cos_angle)\n",
    "\n",
    "# Convertir el ángulo a grados\n",
    "angle_degrees = np.degrees(angle_radians)\n",
    "\n",
    "print(\"Ángulo entre los vectores:\", angle_degrees, \"grados\")\n"
   ]
  },
  {
   "cell_type": "markdown",
   "metadata": {},
   "source": [
    "What is the length (magnitude) of the following vector?\n",
    "\n"
   ]
  },
  {
   "cell_type": "code",
   "execution_count": 6,
   "metadata": {},
   "outputs": [
    {
     "name": "stdout",
     "output_type": "stream",
     "text": [
      "6.244997998398398\n",
      "Magnitud usando la raíz cuadrada: 6.244997998398398\n"
     ]
    }
   ],
   "source": [
    "import math\n",
    "\n",
    "vector = np.array([-2, -3, 0, 5, 1])\n",
    "\n",
    "mag = np.linalg.norm(vector)\n",
    "print(mag)\n",
    "\n",
    "# Calculando la magnitud manualmente como la raíz cuadrada de la suma de los cuadrados\n",
    "mag_sqrt = math.sqrt(sum(x**2 for x in vector))\n",
    "print(\"Magnitud usando la raíz cuadrada:\", mag_sqrt)"
   ]
  },
  {
   "cell_type": "markdown",
   "metadata": {},
   "source": [
    "Solve the following system of equations using Gaussian Elimination"
   ]
  },
  {
   "cell_type": "code",
   "execution_count": 11,
   "metadata": {},
   "outputs": [
    {
     "name": "stdout",
     "output_type": "stream",
     "text": [
      "-0.3333333333333335 -0.6666666666666666 0.6666666666666669\n",
      "****************************************************************************************************\n",
      "\n",
      "-1/3 -2/3 2/3\n"
     ]
    }
   ],
   "source": [
    "# 2x - 3y + z = 2\n",
    "# 3X + Y + Z = -1\n",
    "# -X -2y = 1\n",
    "\n",
    "# 2x - 3y + z = 2\n",
    "# 3x + y + z = -1\n",
    "# -x - 2y + 0z = 1\n",
    "from fractions import Fraction\n",
    "\n",
    "equations = np.array([[2, -3, 1], [3, 1, 1], [-1, -2, -1]]) # Añadido el coeficiente 0 para z en la tercera ecuación\n",
    "results = np.array([2, -1, 1])\n",
    "\n",
    "x, y, z = np.linalg.solve(equations, results)\n",
    "print(x, y, z)\n",
    "\n",
    "\n",
    "print('*' * 100 + '\\n')\n",
    "\n",
    "# Convertir los resultados a fracciones\n",
    "x_frac = Fraction(x).limit_denominator()\n",
    "y_frac = Fraction(y).limit_denominator()\n",
    "z_frac = Fraction(z).limit_denominator()\n",
    "\n",
    "print(x_frac, y_frac, z_frac)\n",
    "\n",
    "\n"
   ]
  },
  {
   "cell_type": "markdown",
   "metadata": {},
   "source": []
  },
  {
   "cell_type": "code",
   "execution_count": 12,
   "metadata": {},
   "outputs": [
    {
     "name": "stdout",
     "output_type": "stream",
     "text": [
      "[[ 0.3902439  -3.48780488  0.53658537 -2.90243902]\n",
      " [-0.38211382 -2.77235772  1.01626016 -3.17886179]\n",
      " [-0.61788618 -2.22764228  0.98373984 -1.82113821]\n",
      " [ 0.2601626   1.67479675 -0.30894309  2.39837398]]\n"
     ]
    }
   ],
   "source": [
    "import numpy as np\n",
    "\n",
    "R = np.array([[1, 3, -4, -8], [4, 0, 2, -3], [7, -2, 1, -1], [-2, -1, 0, 2]])\n",
    "Q = np.array([[-4, 3, -8, 1], [2, 0, -3, 4], [1, -2, -1, 7], [0, -1, 2, -2]])\n",
    "\n",
    "R_inv = np.linalg.inv(R)\n",
    "P = np.dot(Q, R_inv)\n",
    "\n",
    "print(P)\n"
   ]
  }
 ],
 "metadata": {
  "kernelspec": {
   "display_name": "Python 3",
   "language": "python",
   "name": "python3"
  },
  "language_info": {
   "codemirror_mode": {
    "name": "ipython",
    "version": 3
   },
   "file_extension": ".py",
   "mimetype": "text/x-python",
   "name": "python",
   "nbconvert_exporter": "python",
   "pygments_lexer": "ipython3",
   "version": "3.11.2"
  },
  "orig_nbformat": 4
 },
 "nbformat": 4,
 "nbformat_minor": 2
}
