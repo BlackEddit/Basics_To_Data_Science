{
 "cells": [
  {
   "cell_type": "code",
   "execution_count": 1,
   "metadata": {},
   "outputs": [],
   "source": [
    "import numpy as np"
   ]
  },
  {
   "cell_type": "code",
   "execution_count": 2,
   "metadata": {},
   "outputs": [
    {
     "name": "stdout",
     "output_type": "stream",
     "text": [
      "[[  1   1  -4]\n",
      " [-15  13  -4]\n",
      " [ -2   2   4]]\n"
     ]
    }
   ],
   "source": [
    "A1 = np.array([[2, -3, 1], [-2, -1, 4], [0, 2, 2]])\n",
    "\n",
    "A2 = np.array([[3, -2, 1], [1, -1, 2], [-2, 2, 0]])\n",
    "\n",
    "print(A1@A2)"
   ]
  },
  {
   "cell_type": "markdown",
   "metadata": {},
   "source": [
    "What is the angle, in degrees rounded to the nearest whole number, between the following two vectors?\n",
    "\n"
   ]
  },
  {
   "cell_type": "code",
   "execution_count": 3,
   "metadata": {},
   "outputs": [
    {
     "name": "stdout",
     "output_type": "stream",
     "text": [
      "Ángulo entre los vectores: 55.46241621381916 grados\n"
     ]
    }
   ],
   "source": [
    "# the followng vectors is what it gives to me\n",
    "vector_a = [3, -1, 2] \n",
    "vector_b = [0, -1, 1]\n",
    "\n",
    "#we need to use a formula,  producto escalar \n",
    "dot_product = np.dot(vector_a, vector_b)\n",
    "\n",
    "# Calcular las magnitudes de los vectores\n",
    "magnitude_a = np.linalg.norm(vector_a)\n",
    "magnitude_b = np.linalg.norm(vector_b)\n",
    "\n",
    "# Calcular el coseno del ángulo\n",
    "cos_angle = dot_product / (magnitude_a * magnitude_b)\n",
    "\n",
    "angle_radians = np.arccos(cos_angle)\n",
    "\n",
    "# Convertir el ángulo a grados\n",
    "angle_degrees = np.degrees(angle_radians)\n",
    "\n",
    "print(\"Ángulo entre los vectores:\", angle_degrees, \"grados\")\n"
   ]
  },
  {
   "cell_type": "markdown",
   "metadata": {},
   "source": [
    "What is the length (magnitude) of the following vector?\n",
    "\n"
   ]
  },
  {
   "cell_type": "code",
   "execution_count": 5,
   "metadata": {},
   "outputs": [
    {
     "name": "stdout",
     "output_type": "stream",
     "text": [
      "6.244997998398398\n"
     ]
    }
   ],
   "source": [
    "vector = np.array([-2, -3, 0, 5, 1])\n",
    "\n",
    "mag = np.linalg.norm(vector)\n",
    "print(mag)"
   ]
  }
 ],
 "metadata": {
  "kernelspec": {
   "display_name": "Python 3",
   "language": "python",
   "name": "python3"
  },
  "language_info": {
   "codemirror_mode": {
    "name": "ipython",
    "version": 3
   },
   "file_extension": ".py",
   "mimetype": "text/x-python",
   "name": "python",
   "nbconvert_exporter": "python",
   "pygments_lexer": "ipython3",
   "version": "3.11.2"
  },
  "orig_nbformat": 4
 },
 "nbformat": 4,
 "nbformat_minor": 2
}
