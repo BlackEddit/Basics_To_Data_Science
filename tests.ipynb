{
 "cells": [
  {
   "cell_type": "code",
   "execution_count": 13,
   "metadata": {},
   "outputs": [],
   "source": [
    "import numpy as np\n",
    "import math\n",
    "from fractions import Fraction # To use fractions\n"
   ]
  },
  {
   "cell_type": "code",
   "execution_count": 2,
   "metadata": {},
   "outputs": [
    {
     "name": "stdout",
     "output_type": "stream",
     "text": [
      "3\n"
     ]
    }
   ],
   "source": [
    "\n",
    "A = np.array([3, -1, 2])\n",
    "B = np.array([0, -1, 1])\n",
    "\n",
    "result = np.dot(A, B)\n",
    "\n",
    "print(result)"
   ]
  },
  {
   "cell_type": "code",
   "execution_count": 4,
   "metadata": {},
   "outputs": [
    {
     "data": {
      "text/plain": [
       "55"
      ]
     },
     "execution_count": 4,
     "metadata": {},
     "output_type": "execute_result"
    }
   ],
   "source": [
    "\n",
    "A = [3, -1, 2]\n",
    "B = [0, -1, 1]\n",
    "\n",
    "dot_product = sum(a * b for a, b in zip(A, B))\n",
    "magnitude_A = math.sqrt(sum(a**2 for a in A))\n",
    "magnitude_B = math.sqrt(sum(b**2 for b in B))\n",
    "\n",
    "cos_theta = dot_product / (magnitude_A * magnitude_B)\n",
    "theta = math.degrees(math.acos(cos_theta))\n",
    "\n",
    "# Round to the nearest whole number\n",
    "theta_rounded = round(theta)\n",
    "theta_rounded"
   ]
  },
  {
   "cell_type": "markdown",
   "metadata": {},
   "source": []
  },
  {
   "cell_type": "code",
   "execution_count": 5,
   "metadata": {},
   "outputs": [
    {
     "name": "stdout",
     "output_type": "stream",
     "text": [
      "[[1. 0. 0. 0.]\n",
      " [0. 1. 0. 0.]\n",
      " [0. 0. 0. 1.]\n",
      " [0. 0. 1. 0.]]\n"
     ]
    }
   ],
   "source": [
    "# Given matrix R\n",
    "R = np.array([\n",
    "    [1, 4, 7, -2],\n",
    "    [3, 0, -2, -1],\n",
    "    [-4, 2, 1, 0],\n",
    "    [-8, -3, -1, 2]\n",
    "])\n",
    "\n",
    "# Target matrix\n",
    "target = np.array([\n",
    "    [-4, 2, 1, 0],\n",
    "    [3, 0, -2, -1],\n",
    "    [-8, -3, -1, 2],\n",
    "    [1, 4, 7, -2]\n",
    "])\n",
    "\n",
    "# Initialize permutation matrix P as an identity matrix\n",
    "P = np.eye(4)\n",
    "\n",
    "# Rearrange the rows of P according to the order in which the rows of R appear in the target matrix\n",
    "for i, row in enumerate(target):\n",
    "    index = np.where((R == row).all(axis=1))[0][0]\n",
    "    P[i], P[index] = P[index], P[i].copy()\n",
    "\n",
    "# Print the permutation matrix P\n",
    "print(P)"
   ]
  },
  {
   "cell_type": "code",
   "execution_count": 8,
   "metadata": {},
   "outputs": [
    {
     "name": "stdout",
     "output_type": "stream",
     "text": [
      "[[  7  14]\n",
      " [-11  -1]]\n"
     ]
    }
   ],
   "source": [
    "# Given matrices\n",
    "A = np.array([[2, 3], [-2, 0]])\n",
    "B = np.array([[1, -2], [3, 1]])\n",
    "\n",
    "# Scalar value\n",
    "k = 4\n",
    "\n",
    "# Multiply A by the scalar k and subtract B\n",
    "result = k * A - B\n",
    "\n",
    "# Print the result\n",
    "print(result)"
   ]
  },
  {
   "cell_type": "code",
   "execution_count": 10,
   "metadata": {},
   "outputs": [
    {
     "name": "stdout",
     "output_type": "stream",
     "text": [
      "6.244997998398398\n"
     ]
    }
   ],
   "source": [
    "v = np.array([-2, -3, 0, 5, 1])\n",
    "v_norm = np.linalg.norm(v)\n",
    "print(v_norm)"
   ]
  },
  {
   "cell_type": "code",
   "execution_count": 14,
   "metadata": {},
   "outputs": [
    {
     "name": "stdout",
     "output_type": "stream",
     "text": [
      "-1/3 -2/3 2/3\n"
     ]
    }
   ],
   "source": [
    "#Given the next functions\n",
    "#  2x - 3y + z = 2\n",
    "#  3x  + y + z = -1\n",
    "# -x - 2y - z = 1\n",
    "\n",
    "\n",
    "# each array in A is an equation from the above system of equations\n",
    "A = np.array([[2, -3, 1],[3, 1, 1],[-1, -2, -1]])\n",
    "# the solution to each equation\n",
    "b = np.array([2, -1, 1])\n",
    "# solve for x, y, and z\n",
    "x,y,z = np.linalg.solve(A,b)\n",
    "\n",
    "x_frac = Fraction(x).limit_denominator()\n",
    "y_frac = Fraction(y).limit_denominator()\n",
    "z_frac = Fraction(z).limit_denominator()\n",
    "\n",
    "print(x_frac, y_frac, z_frac)\n"
   ]
  },
  {
   "cell_type": "code",
   "execution_count": 19,
   "metadata": {},
   "outputs": [
    {
     "data": {
      "text/plain": [
       "(4,)"
      ]
     },
     "execution_count": 19,
     "metadata": {},
     "output_type": "execute_result"
    }
   ],
   "source": [
    "#\n",
    "A = np.array([[2, 3, 4], [2, 3, 4], [2, 3, 4], [2, 3, 4]])\n",
    "B = np.array([[1, -2, -1], [1, -2, -1], [1, -2, -1]])\n",
    "C = np.array([1, 2, 3])\n",
    "\n",
    "result_temp = A @ B.T\n",
    "D = result_temp @ C.T\n",
    "\n",
    "D.shape"
   ]
  }
 ],
 "metadata": {
  "kernelspec": {
   "display_name": "Python 3",
   "language": "python",
   "name": "python3"
  },
  "language_info": {
   "codemirror_mode": {
    "name": "ipython",
    "version": 3
   },
   "file_extension": ".py",
   "mimetype": "text/x-python",
   "name": "python",
   "nbconvert_exporter": "python",
   "pygments_lexer": "ipython3",
   "version": "3.11.2"
  },
  "orig_nbformat": 4
 },
 "nbformat": 4,
 "nbformat_minor": 2
}
