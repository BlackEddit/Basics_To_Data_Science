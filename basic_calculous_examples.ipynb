{
 "cells": [
  {
   "cell_type": "code",
   "execution_count": 1,
   "metadata": {},
   "outputs": [],
   "source": [
    "from math import pow\n",
    "import numpy as np"
   ]
  },
  {
   "cell_type": "markdown",
   "metadata": {},
   "source": [
    "How to write a function:"
   ]
  },
  {
   "cell_type": "code",
   "execution_count": 3,
   "metadata": {},
   "outputs": [],
   "source": [
    "# dx is the \"step\" between each x value\n",
    "dx = 0.05\n",
    "def f(x):\n",
    "    # to calculate the y values of the function\n",
    "    return pow(x, 2) + 3\n",
    "# x values\n",
    "f_array_x = [x for x in np.arange(0,4,dx)]\n",
    "# y values\n",
    "f_array_y = [f(x) for x in np.arange(0,4,dx)]\n",
    "\n",
    "\n",
    "# Forma de obtener la derivada:\n",
    "f_array_deriv = np.gradient(f_array_y, dx)\n"
   ]
  },
  {
   "cell_type": "code",
   "execution_count": null,
   "metadata": {},
   "outputs": [],
   "source": []
  },
  {
   "cell_type": "markdown",
   "metadata": {},
   "source": [
    "To start, let’s write a Python function that <br>\n",
    "takes a mathematical function as input and uses the limit definition of a derivative to find the approximate derivate As a refresher the limit definition of the derivative is written out below:\n",
    "\n"
   ]
  },
  {
   "cell_type": "code",
   "execution_count": null,
   "metadata": {},
   "outputs": [],
   "source": [
    "def limit_derivative(f, x, h):\n",
    "    \"\"\"\n",
    "    f: function to be differentiated \n",
    "    x: the point at which to differentiate f \n",
    "    h: distance between the points to be evaluated\n",
    "    \"\"\"\n",
    "    return (f(x+h) - f(x))/h"
   ]
  },
  {
   "cell_type": "code",
   "execution_count": null,
   "metadata": {},
   "outputs": [],
   "source": [
    "# sasa"
   ]
  }
 ],
 "metadata": {
  "kernelspec": {
   "display_name": "Python 3",
   "language": "python",
   "name": "python3"
  },
  "language_info": {
   "codemirror_mode": {
    "name": "ipython",
    "version": 3
   },
   "file_extension": ".py",
   "mimetype": "text/x-python",
   "name": "python",
   "nbconvert_exporter": "python",
   "pygments_lexer": "ipython3",
   "version": "3.11.2"
  },
  "orig_nbformat": 4
 },
 "nbformat": 4,
 "nbformat_minor": 2
}
